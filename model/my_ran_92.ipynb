{
 "cells": [
  {
   "cell_type": "code",
   "execution_count": 1,
   "id": "a034c943",
   "metadata": {},
   "outputs": [],
   "source": [
    "import matplotlib.pyplot as plt\n",
    "import tensorflow as tf\n",
    "import numpy as np\n",
    "from tensorflow.keras import layers, Sequential\n",
    "from tensorflow.keras.layers import Conv2D, MaxPooling2D, Dense, Flatten\n",
    "import time\n",
    "import tensorflow_datasets as tfds\n",
    "from tensorflow.keras import optimizers\n",
    "import os"
   ]
  },
  {
   "cell_type": "code",
   "execution_count": 2,
   "id": "8275155e",
   "metadata": {},
   "outputs": [],
   "source": [
    "(x_train, x_test), info = tfds.load('cifar10',\n",
    "          split=['train[:80%]','train[80%:]'],\n",
    "          with_info=True,\n",
    "          as_supervised=True)"
   ]
  },
  {
   "cell_type": "code",
   "execution_count": 3,
   "id": "053fa07f",
   "metadata": {},
   "outputs": [],
   "source": [
    "def preprocess(image,label):\n",
    "    image2 = tf.cast(image,\"float32\")\n",
    "    image2 = image2/255.0\n",
    "    label2 = tf.one_hot(label,10)\n",
    "    return image2, label2\n",
    "\n",
    "train_dataset = x_train.map(preprocess).shuffle(buffer_size=5000, seed=123,reshuffle_each_iteration=True).batch(batch_size=64)\n",
    "\n",
    "test_dataset = x_test.map(preprocess).batch(32)"
   ]
  },
  {
   "cell_type": "code",
   "execution_count": 4,
   "id": "b327dc18",
   "metadata": {},
   "outputs": [],
   "source": [
    "# from layer_func import ResidualAttentionNetwork\n",
    "from ran_model import ResidualAttentionNetwork"
   ]
  },
  {
   "cell_type": "code",
   "execution_count": 5,
   "id": "fcca51b8",
   "metadata": {},
   "outputs": [],
   "source": [
    "IMAGE_WIDTH=32\n",
    "IMAGE_HEIGHT=32\n",
    "IMAGE_SIZE=(IMAGE_WIDTH, IMAGE_HEIGHT)\n",
    "IMAGE_CHANNELS=3\n",
    "\n",
    "batch_size=32\n",
    "\n",
    "epochs = 100"
   ]
  },
  {
   "cell_type": "code",
   "execution_count": 6,
   "id": "56f91bda",
   "metadata": {},
   "outputs": [],
   "source": [
    "# rm -rf ./training_checkpoints_a_dcgan_my_model\n",
    "\n",
    "# checkpoint_dir = './training_checkpoints_sample_ran_model'\n",
    "# checkpoint_prefix = os.path.join(checkpoint_dir, \"ckpt\")\n",
    "# checkpoint = tf.train.Checkpoint(optimizer=optimizers.Adam(lr=0.00001),model)\n",
    "\n",
    "\n",
    "checkpoint_path = \"training_my_ran6/cp.ckpt\"\n",
    "checkpoint_dir = os.path.dirname(checkpoint_path)\n",
    "\n",
    "# Create a callback that saves the model's weights\n",
    "cp_callback = tf.keras.callbacks.ModelCheckpoint(filepath=checkpoint_path,\n",
    "                                                 save_weights_only=True,\n",
    "                                                 verbose=1)"
   ]
  },
  {
   "cell_type": "code",
   "execution_count": 7,
   "id": "c48eee09",
   "metadata": {},
   "outputs": [],
   "source": [
    "# model = ResidualAttentionNetwork((IMAGE_WIDTH, IMAGE_HEIGHT, IMAGE_CHANNELS), 10, activation='softmax',p=1,t=2,r=1).model_92_1() #0.851\n",
    "# model = ResidualAttentionNetwork((IMAGE_WIDTH, IMAGE_HEIGHT, IMAGE_CHANNELS), 10, activation='softmax',p=1,t=2,r=2).model_92_1() #0.843\n",
    "# model = ResidualAttentionNetwork((IMAGE_WIDTH, IMAGE_HEIGHT, IMAGE_CHANNELS), 10, activation='softmax',p=1,t=3,r=1).model_92_1() #0.807\n",
    "model = ResidualAttentionNetwork((IMAGE_WIDTH, IMAGE_HEIGHT, IMAGE_CHANNELS), 10, activation='softmax',p=2,t=2,r=1).model_92_1()\n",
    "\n",
    "# Loads the weights\n",
    "# model.load_weights(checkpoint_path)"
   ]
  },
  {
   "cell_type": "code",
   "execution_count": 8,
   "id": "6ce5b0b8",
   "metadata": {},
   "outputs": [],
   "source": [
    "\n",
    "model.compile(optimizer=optimizers.Adam(lr=0.001),\n",
    "              loss='categorical_crossentropy',\n",
    "              metrics=['accuracy'])"
   ]
  },
  {
   "cell_type": "code",
   "execution_count": 9,
   "id": "76a38691",
   "metadata": {},
   "outputs": [],
   "source": [
    "# Re-evaluate the model\n",
    "# loss, acc = model.evaluate(test_dataset,  verbose=2)\n",
    "# print(\"Restored model, accuracy: {:5.2f}%\".format(100 * acc))"
   ]
  },
  {
   "cell_type": "code",
   "execution_count": 10,
   "id": "f02ab4dc",
   "metadata": {},
   "outputs": [],
   "source": [
    "# checkpoint.restore(tf.train.latest_checkpoint(checkpoint_dir))"
   ]
  },
  {
   "cell_type": "code",
   "execution_count": 11,
   "id": "c88a46ac",
   "metadata": {},
   "outputs": [
    {
     "name": "stdout",
     "output_type": "stream",
     "text": [
      "Epoch 1/15\n",
      "625/625 [==============================] - 347s 535ms/step - loss: 1.8929 - accuracy: 0.2995 - val_loss: 1.5517 - val_accuracy: 0.4648\n",
      "\n",
      "Epoch 00001: saving model to training_my_ran6/cp.ckpt\n",
      "Epoch 2/15\n",
      "625/625 [==============================] - 330s 528ms/step - loss: 1.2429 - accuracy: 0.5475 - val_loss: 1.2974 - val_accuracy: 0.5614\n",
      "\n",
      "Epoch 00002: saving model to training_my_ran6/cp.ckpt\n",
      "Epoch 3/15\n",
      "625/625 [==============================] - 330s 528ms/step - loss: 0.9927 - accuracy: 0.6454 - val_loss: 1.4119 - val_accuracy: 0.5313\n",
      "\n",
      "Epoch 00003: saving model to training_my_ran6/cp.ckpt\n",
      "Epoch 4/15\n",
      "625/625 [==============================] - 330s 528ms/step - loss: 0.8343 - accuracy: 0.7030 - val_loss: 1.2769 - val_accuracy: 0.5881\n",
      "\n",
      "Epoch 00004: saving model to training_my_ran6/cp.ckpt\n",
      "Epoch 5/15\n",
      "625/625 [==============================] - 329s 527ms/step - loss: 0.7267 - accuracy: 0.7451 - val_loss: 0.9170 - val_accuracy: 0.6819\n",
      "\n",
      "Epoch 00005: saving model to training_my_ran6/cp.ckpt\n",
      "Epoch 6/15\n",
      "625/625 [==============================] - 329s 526ms/step - loss: 0.4863 - accuracy: 0.8297 - val_loss: 0.9565 - val_accuracy: 0.6719\n",
      "\n",
      "Epoch 00007: saving model to training_my_ran6/cp.ckpt\n",
      "Epoch 8/15\n",
      "625/625 [==============================] - 329s 527ms/step - loss: 0.4125 - accuracy: 0.8558 - val_loss: 0.6518 - val_accuracy: 0.7827\n",
      "\n",
      "Epoch 00008: saving model to training_my_ran6/cp.ckpt\n",
      "Epoch 9/15\n",
      "625/625 [==============================] - 330s 527ms/step - loss: 0.3451 - accuracy: 0.8795 - val_loss: 0.7812 - val_accuracy: 0.7568\n",
      "\n",
      "Epoch 00009: saving model to training_my_ran6/cp.ckpt\n",
      "Epoch 10/15\n",
      "625/625 [==============================] - 329s 526ms/step - loss: 0.2906 - accuracy: 0.8977 - val_loss: 0.8023 - val_accuracy: 0.7696\n",
      "\n",
      "Epoch 00010: saving model to training_my_ran6/cp.ckpt\n",
      "Epoch 11/15\n",
      "625/625 [==============================] - 328s 525ms/step - loss: 0.2363 - accuracy: 0.9175 - val_loss: 0.7790 - val_accuracy: 0.7644\n",
      "\n",
      "Epoch 00011: saving model to training_my_ran6/cp.ckpt\n",
      "Epoch 12/15\n",
      "625/625 [==============================] - 329s 526ms/step - loss: 0.1952 - accuracy: 0.9322 - val_loss: 0.7288 - val_accuracy: 0.7921\n",
      "\n",
      "Epoch 00012: saving model to training_my_ran6/cp.ckpt\n",
      "Epoch 13/15\n",
      "625/625 [==============================] - 329s 526ms/step - loss: 0.1821 - accuracy: 0.9352 - val_loss: 0.7862 - val_accuracy: 0.7817\n",
      "\n",
      "Epoch 00013: saving model to training_my_ran6/cp.ckpt\n",
      "Epoch 14/15\n",
      "625/625 [==============================] - 328s 525ms/step - loss: 0.1761 - accuracy: 0.9370 - val_loss: 0.7620 - val_accuracy: 0.7927\n",
      "\n",
      "Epoch 00014: saving model to training_my_ran6/cp.ckpt\n",
      "Epoch 15/15\n",
      "625/625 [==============================] - 328s 525ms/step - loss: 0.1195 - accuracy: 0.9581 - val_loss: 0.7150 - val_accuracy: 0.8060\n",
      "\n",
      "Epoch 00015: saving model to training_my_ran6/cp.ckpt\n"
     ]
    }
   ],
   "source": [
    "history1 = model.fit(train_dataset, \n",
    "            validation_data=test_dataset, \n",
    "            epochs=15,\n",
    "            callbacks=[cp_callback]) "
   ]
  },
  {
   "cell_type": "code",
   "execution_count": null,
   "id": "01300743",
   "metadata": {},
   "outputs": [
    {
     "name": "stdout",
     "output_type": "stream",
     "text": [
      "Epoch 1/5\n",
      "625/625 [==============================] - 336s 527ms/step - loss: 0.0555 - accuracy: 0.9820 - val_loss: 0.6165 - val_accuracy: 0.8513\n",
      "\n",
      "Epoch 00001: saving model to training_my_ran6/cp.ckpt\n",
      "Epoch 2/5\n",
      "625/625 [==============================] - 328s 525ms/step - loss: 0.0161 - accuracy: 0.9963 - val_loss: 0.6610 - val_accuracy: 0.8499\n",
      "\n",
      "Epoch 00002: saving model to training_my_ran6/cp.ckpt\n",
      "Epoch 3/5\n",
      "625/625 [==============================] - 328s 525ms/step - loss: 0.0083 - accuracy: 0.9984 - val_loss: 0.6993 - val_accuracy: 0.8517\n",
      "\n",
      "Epoch 00003: saving model to training_my_ran6/cp.ckpt\n",
      "Epoch 4/5\n",
      "625/625 [==============================] - 329s 526ms/step - loss: 0.0048 - accuracy: 0.9994 - val_loss: 0.7405 - val_accuracy: 0.8476\n",
      "\n",
      "Epoch 00004: saving model to training_my_ran6/cp.ckpt\n",
      "Epoch 5/5\n",
      "625/625 [==============================] - ETA: 0s - loss: 0.0042 - accuracy: 0.9995"
     ]
    }
   ],
   "source": [
    "model.compile(optimizer=optimizers.Adam(lr=0.0001),\n",
    "              loss='categorical_crossentropy',\n",
    "              metrics=['accuracy'])\n",
    "\n",
    "model.fit(train_dataset, \n",
    "            validation_data=test_dataset, \n",
    "            epochs=5,\n",
    "            callbacks=[cp_callback]) "
   ]
  },
  {
   "cell_type": "code",
   "execution_count": 13,
   "id": "c2fd47cc",
   "metadata": {},
   "outputs": [
    {
     "name": "stdout",
     "output_type": "stream",
     "text": [
      "625/625 [==============================] - 334s 523ms/step - loss: 0.0029 - accuracy: 0.9996 - val_loss: 0.7519 - val_accuracy: 0.8520\n",
      "\n",
      "Epoch 00001: saving model to training_my_ran6/cp.ckpt\n",
      "Epoch 2/5\n",
      "625/625 [==============================] - 327s 522ms/step - loss: 0.0027 - accuracy: 0.9995 - val_loss: 0.7512 - val_accuracy: 0.8538\n",
      "\n",
      "Epoch 00002: saving model to training_my_ran6/cp.ckpt\n",
      "Epoch 3/5\n",
      "625/625 [==============================] - 326s 522ms/step - loss: 0.0018 - accuracy: 0.9999 - val_loss: 0.7562 - val_accuracy: 0.8527\n",
      "\n",
      "Epoch 00003: saving model to training_my_ran6/cp.ckpt\n",
      "Epoch 4/5\n",
      "625/625 [==============================] - 326s 521ms/step - loss: 0.0018 - accuracy: 0.9998 - val_loss: 0.7607 - val_accuracy: 0.8540\n",
      "\n",
      "Epoch 00004: saving model to training_my_ran6/cp.ckpt\n",
      "Epoch 5/5\n",
      "625/625 [==============================] - 326s 521ms/step - loss: 0.0017 - accuracy: 0.9997 - val_loss: 0.7613 - val_accuracy: 0.8533\n",
      "\n",
      "Epoch 00005: saving model to training_my_ran6/cp.ckpt\n"
     ]
    },
    {
     "data": {
      "text/plain": [
       "<tensorflow.python.keras.callbacks.History at 0x7fb1c85f6320>"
      ]
     },
     "execution_count": 13,
     "metadata": {},
     "output_type": "execute_result"
    }
   ],
   "source": [
    "model.compile(optimizer=optimizers.Adam(lr=0.00001),\n",
    "              loss='categorical_crossentropy',\n",
    "              metrics=['accuracy'])\n",
    "\n",
    "model.fit(train_dataset, \n",
    "            validation_data=test_dataset, \n",
    "            epochs=5,\n",
    "            callbacks=[cp_callback]) \n"
   ]
  },
  {
   "cell_type": "code",
   "execution_count": 14,
   "id": "7a726dbb",
   "metadata": {},
   "outputs": [],
   "source": [
    "# model.save('sample_ran_model_1.h5')  "
   ]
  },
  {
   "cell_type": "code",
   "execution_count": 16,
   "id": "17d7bc49",
   "metadata": {},
   "outputs": [
    {
     "name": "stdout",
     "output_type": "stream",
     "text": [
      "Epoch 1/15\n",
      "625/625 [==============================] - 302s 473ms/step - loss: 1.8599 - accuracy: 0.3156 - val_loss: 1.2920 - val_accuracy: 0.5258\n",
      "\n",
      "Epoch 00001: saving model to training_my_ran6/cp.ckpt\n",
      "Epoch 2/15\n",
      "625/625 [==============================] - 296s 473ms/step - loss: 1.1975 - accuracy: 0.5656 - val_loss: 1.9699 - val_accuracy: 0.4146\n",
      "\n",
      "Epoch 00002: saving model to training_my_ran6/cp.ckpt\n",
      "Epoch 3/15\n",
      "625/625 [==============================] - 295s 472ms/step - loss: 0.9081 - accuracy: 0.6767 - val_loss: 1.0244 - val_accuracy: 0.6507\n",
      "\n",
      "Epoch 00003: saving model to training_my_ran6/cp.ckpt\n",
      "Epoch 4/15\n",
      "625/625 [==============================] - 295s 472ms/step - loss: 0.7293 - accuracy: 0.7461 - val_loss: 2.5041 - val_accuracy: 0.4360\n",
      "\n",
      "Epoch 00004: saving model to training_my_ran6/cp.ckpt\n",
      "Epoch 5/15\n",
      "625/625 [==============================] - 294s 471ms/step - loss: 0.5887 - accuracy: 0.7923 - val_loss: 0.9005 - val_accuracy: 0.7031\n",
      "\n",
      "Epoch 00005: saving model to training_my_ran6/cp.ckpt\n",
      "Epoch 6/15\n",
      "625/625 [==============================] - 294s 471ms/step - loss: 0.4899 - accuracy: 0.8294 - val_loss: 0.7627 - val_accuracy: 0.7425\n",
      "\n",
      "Epoch 00006: saving model to training_my_ran6/cp.ckpt\n",
      "Epoch 7/15\n",
      "625/625 [==============================] - 294s 471ms/step - loss: 0.4053 - accuracy: 0.8576 - val_loss: 0.8398 - val_accuracy: 0.7534\n",
      "\n",
      "Epoch 00007: saving model to training_my_ran6/cp.ckpt\n",
      "Epoch 8/15\n",
      "625/625 [==============================] - 295s 471ms/step - loss: 0.3224 - accuracy: 0.8870 - val_loss: 0.7161 - val_accuracy: 0.7778\n",
      "\n",
      "Epoch 00008: saving model to training_my_ran6/cp.ckpt\n",
      "Epoch 9/15\n",
      "625/625 [==============================] - 294s 470ms/step - loss: 0.2549 - accuracy: 0.9109 - val_loss: 0.7244 - val_accuracy: 0.7908\n",
      "\n",
      "Epoch 00009: saving model to training_my_ran6/cp.ckpt\n",
      "Epoch 10/15\n",
      "625/625 [==============================] - 294s 470ms/step - loss: 0.2029 - accuracy: 0.9283 - val_loss: 0.8858 - val_accuracy: 0.7536\n",
      "\n",
      "Epoch 00010: saving model to training_my_ran6/cp.ckpt\n",
      "Epoch 11/15\n",
      "625/625 [==============================] - 294s 471ms/step - loss: 0.1654 - accuracy: 0.9425 - val_loss: 0.6747 - val_accuracy: 0.8151\n",
      "\n",
      "Epoch 00011: saving model to training_my_ran6/cp.ckpt\n",
      "Epoch 12/15\n",
      "625/625 [==============================] - 294s 470ms/step - loss: 0.1407 - accuracy: 0.9512 - val_loss: 0.8132 - val_accuracy: 0.7850\n",
      "\n",
      "Epoch 00012: saving model to training_my_ran6/cp.ckpt\n",
      "Epoch 13/15\n",
      "625/625 [==============================] - 293s 469ms/step - loss: 0.1213 - accuracy: 0.9573 - val_loss: 0.8098 - val_accuracy: 0.8000\n",
      "\n",
      "Epoch 00013: saving model to training_my_ran6/cp.ckpt\n",
      "Epoch 14/15\n",
      "625/625 [==============================] - 293s 469ms/step - loss: 0.0921 - accuracy: 0.9680 - val_loss: 1.1315 - val_accuracy: 0.7383\n",
      "\n",
      "Epoch 00014: saving model to training_my_ran6/cp.ckpt\n",
      "Epoch 15/15\n",
      "625/625 [==============================] - 293s 469ms/step - loss: 0.0928 - accuracy: 0.9670 - val_loss: 0.8355 - val_accuracy: 0.7897\n",
      "\n",
      "Epoch 00015: saving model to training_my_ran6/cp.ckpt\n"
     ]
    }
   ],
   "source": [
    "\n",
    "\n",
    "model_2.compile(optimizer=optimizers.Adam(lr=0.001),\n",
    "              loss='categorical_crossentropy',\n",
    "              metrics=['accuracy'])\n",
    "\n",
    "\n",
    "history2 = model_2.fit(train_dataset, \n",
    "            validation_data=test_dataset, \n",
    "            epochs=15,\n",
    "            callbacks=[cp_callback]) "
   ]
  },
  {
   "cell_type": "code",
   "execution_count": null,
   "id": "2c6191cb",
   "metadata": {},
   "outputs": [],
   "source": [
    "model_2.compile(optimizer=optimizers.Adam(lr=0.0001),\n",
    "              loss='categorical_crossentropy',\n",
    "              metrics=['accuracy'])\n",
    "\n",
    "model_2.fit(train_dataset, \n",
    "            validation_data=test_dataset, \n",
    "            epochs=5,\n",
    "            callbacks=[cp_callback]) "
   ]
  }
 ],
 "metadata": {
  "kernelspec": {
   "display_name": "Python 3",
   "language": "python",
   "name": "python3"
  },
  "language_info": {
   "codemirror_mode": {
    "name": "ipython",
    "version": 3
   },
   "file_extension": ".py",
   "mimetype": "text/x-python",
   "name": "python",
   "nbconvert_exporter": "python",
   "pygments_lexer": "ipython3",
   "version": "3.6.9"
  }
 },
 "nbformat": 4,
 "nbformat_minor": 5
}
